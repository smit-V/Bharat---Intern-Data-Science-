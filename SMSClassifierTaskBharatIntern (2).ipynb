{
  "cells": [
    {
      "cell_type": "markdown",
      "id": "34ec6bed-830c-4828-b29f-93ad837bf449",
      "metadata": {
        "id": "34ec6bed-830c-4828-b29f-93ad837bf449"
      },
      "source": [
        "## SMS Classifier-SMS Spam Collection"
      ]
    },
    {
      "cell_type": "markdown",
      "id": "37899712-c3ab-4cf2-bbce-4f6307862413",
      "metadata": {
        "id": "37899712-c3ab-4cf2-bbce-4f6307862413"
      },
      "source": [
        "Task 1 @ Bharat Intern"
      ]
    },
    {
      "cell_type": "markdown",
      "id": "979a312c-c761-4e4a-a1d9-e21399124f7f",
      "metadata": {
        "id": "979a312c-c761-4e4a-a1d9-e21399124f7f"
      },
      "source": [
        "Task: Develop a text classification model to classify SMS as either spam or non-spam using data science techniques in Python."
      ]
    },
    {
      "cell_type": "markdown",
      "id": "8aa89b5a-f432-4814-8820-8ea51b809bbc",
      "metadata": {
        "id": "8aa89b5a-f432-4814-8820-8ea51b809bbc"
      },
      "source": [
        "Dataset: https://www.kaggle.com/datasets/uciml/sms-spam-collection-dataset/data\n",
        "\n",
        "About the dataset:\n",
        "The SMS Spam Collection is a set of SMS tagged messages that have been collected for SMS Spam research. It contains one set of SMS messages in English of 5,574 messages, tagged acording being ham (legitimate) or spam.\n",
        "The dataset includes messages from various sources, such as the Grumbletext Web site, NUS SMS Corpus, Caroline Tag's PhD Thesis, and SMS Spam Corpus v.0.1 Big."
      ]
    },
    {
      "cell_type": "code",
      "execution_count": null,
      "id": "7370724e-6dfe-4c1e-9bb3-2ba857e112af",
      "metadata": {
        "id": "7370724e-6dfe-4c1e-9bb3-2ba857e112af"
      },
      "outputs": [],
      "source": [
        "#Importing the required libraries\n",
        "\n",
        "import pandas as pd\n",
        "import numpy as np"
      ]
    },
    {
      "cell_type": "code",
      "execution_count": null,
      "id": "5e7fe28b-3547-40a8-ab88-c6deb36502e7",
      "metadata": {
        "id": "5e7fe28b-3547-40a8-ab88-c6deb36502e7",
        "outputId": "6655671d-21ed-4257-e43d-6b6885486c6a"
      },
      "outputs": [
        {
          "data": {
            "text/html": [
              "<div>\n",
              "<style scoped>\n",
              "    .dataframe tbody tr th:only-of-type {\n",
              "        vertical-align: middle;\n",
              "    }\n",
              "\n",
              "    .dataframe tbody tr th {\n",
              "        vertical-align: top;\n",
              "    }\n",
              "\n",
              "    .dataframe thead th {\n",
              "        text-align: right;\n",
              "    }\n",
              "</style>\n",
              "<table border=\"1\" class=\"dataframe\">\n",
              "  <thead>\n",
              "    <tr style=\"text-align: right;\">\n",
              "      <th></th>\n",
              "      <th>label</th>\n",
              "      <th>message</th>\n",
              "      <th>Unnamed: 2</th>\n",
              "      <th>Unnamed: 3</th>\n",
              "      <th>Unnamed: 4</th>\n",
              "    </tr>\n",
              "  </thead>\n",
              "  <tbody>\n",
              "    <tr>\n",
              "      <th>0</th>\n",
              "      <td>ham</td>\n",
              "      <td>Go until jurong point, crazy.. Available only ...</td>\n",
              "      <td>NaN</td>\n",
              "      <td>NaN</td>\n",
              "      <td>NaN</td>\n",
              "    </tr>\n",
              "    <tr>\n",
              "      <th>1</th>\n",
              "      <td>ham</td>\n",
              "      <td>Ok lar... Joking wif u oni...</td>\n",
              "      <td>NaN</td>\n",
              "      <td>NaN</td>\n",
              "      <td>NaN</td>\n",
              "    </tr>\n",
              "    <tr>\n",
              "      <th>2</th>\n",
              "      <td>spam</td>\n",
              "      <td>Free entry in 2 a wkly comp to win FA Cup fina...</td>\n",
              "      <td>NaN</td>\n",
              "      <td>NaN</td>\n",
              "      <td>NaN</td>\n",
              "    </tr>\n",
              "    <tr>\n",
              "      <th>3</th>\n",
              "      <td>ham</td>\n",
              "      <td>U dun say so early hor... U c already then say...</td>\n",
              "      <td>NaN</td>\n",
              "      <td>NaN</td>\n",
              "      <td>NaN</td>\n",
              "    </tr>\n",
              "    <tr>\n",
              "      <th>4</th>\n",
              "      <td>ham</td>\n",
              "      <td>Nah I don't think he goes to usf, he lives aro...</td>\n",
              "      <td>NaN</td>\n",
              "      <td>NaN</td>\n",
              "      <td>NaN</td>\n",
              "    </tr>\n",
              "  </tbody>\n",
              "</table>\n",
              "</div>"
            ],
            "text/plain": [
              "  label                                            message Unnamed: 2  \\\n",
              "0   ham  Go until jurong point, crazy.. Available only ...        NaN   \n",
              "1   ham                      Ok lar... Joking wif u oni...        NaN   \n",
              "2  spam  Free entry in 2 a wkly comp to win FA Cup fina...        NaN   \n",
              "3   ham  U dun say so early hor... U c already then say...        NaN   \n",
              "4   ham  Nah I don't think he goes to usf, he lives aro...        NaN   \n",
              "\n",
              "  Unnamed: 3 Unnamed: 4  \n",
              "0        NaN        NaN  \n",
              "1        NaN        NaN  \n",
              "2        NaN        NaN  \n",
              "3        NaN        NaN  \n",
              "4        NaN        NaN  "
            ]
          },
          "execution_count": 2,
          "metadata": {},
          "output_type": "execute_result"
        }
      ],
      "source": [
        "ds = pd.read_csv('spam.csv', encoding='latin-1')\n",
        "ds = ds.rename(columns={'v1': 'label', 'v2': 'message'})\n",
        "ds.head()"
      ]
    },
    {
      "cell_type": "markdown",
      "id": "5828c50c-b54c-4399-bdad-82d452d090d4",
      "metadata": {
        "id": "5828c50c-b54c-4399-bdad-82d452d090d4"
      },
      "source": [
        "The labels in the dataset are encoded to numerical values using the map function."
      ]
    },
    {
      "cell_type": "code",
      "execution_count": null,
      "id": "d81774b3-69e5-4e75-94c5-3a343539bbb2",
      "metadata": {
        "id": "d81774b3-69e5-4e75-94c5-3a343539bbb2",
        "outputId": "5e5abbe6-5b85-460a-f4a0-c913f3548a3c"
      },
      "outputs": [
        {
          "data": {
            "text/html": [
              "<div>\n",
              "<style scoped>\n",
              "    .dataframe tbody tr th:only-of-type {\n",
              "        vertical-align: middle;\n",
              "    }\n",
              "\n",
              "    .dataframe tbody tr th {\n",
              "        vertical-align: top;\n",
              "    }\n",
              "\n",
              "    .dataframe thead th {\n",
              "        text-align: right;\n",
              "    }\n",
              "</style>\n",
              "<table border=\"1\" class=\"dataframe\">\n",
              "  <thead>\n",
              "    <tr style=\"text-align: right;\">\n",
              "      <th></th>\n",
              "      <th>label</th>\n",
              "      <th>message</th>\n",
              "      <th>Unnamed: 2</th>\n",
              "      <th>Unnamed: 3</th>\n",
              "      <th>Unnamed: 4</th>\n",
              "      <th>label_encoded</th>\n",
              "    </tr>\n",
              "  </thead>\n",
              "  <tbody>\n",
              "    <tr>\n",
              "      <th>0</th>\n",
              "      <td>ham</td>\n",
              "      <td>Go until jurong point, crazy.. Available only ...</td>\n",
              "      <td>NaN</td>\n",
              "      <td>NaN</td>\n",
              "      <td>NaN</td>\n",
              "      <td>0</td>\n",
              "    </tr>\n",
              "    <tr>\n",
              "      <th>1</th>\n",
              "      <td>ham</td>\n",
              "      <td>Ok lar... Joking wif u oni...</td>\n",
              "      <td>NaN</td>\n",
              "      <td>NaN</td>\n",
              "      <td>NaN</td>\n",
              "      <td>0</td>\n",
              "    </tr>\n",
              "    <tr>\n",
              "      <th>2</th>\n",
              "      <td>spam</td>\n",
              "      <td>Free entry in 2 a wkly comp to win FA Cup fina...</td>\n",
              "      <td>NaN</td>\n",
              "      <td>NaN</td>\n",
              "      <td>NaN</td>\n",
              "      <td>1</td>\n",
              "    </tr>\n",
              "    <tr>\n",
              "      <th>3</th>\n",
              "      <td>ham</td>\n",
              "      <td>U dun say so early hor... U c already then say...</td>\n",
              "      <td>NaN</td>\n",
              "      <td>NaN</td>\n",
              "      <td>NaN</td>\n",
              "      <td>0</td>\n",
              "    </tr>\n",
              "    <tr>\n",
              "      <th>4</th>\n",
              "      <td>ham</td>\n",
              "      <td>Nah I don't think he goes to usf, he lives aro...</td>\n",
              "      <td>NaN</td>\n",
              "      <td>NaN</td>\n",
              "      <td>NaN</td>\n",
              "      <td>0</td>\n",
              "    </tr>\n",
              "  </tbody>\n",
              "</table>\n",
              "</div>"
            ],
            "text/plain": [
              "  label                                            message Unnamed: 2  \\\n",
              "0   ham  Go until jurong point, crazy.. Available only ...        NaN   \n",
              "1   ham                      Ok lar... Joking wif u oni...        NaN   \n",
              "2  spam  Free entry in 2 a wkly comp to win FA Cup fina...        NaN   \n",
              "3   ham  U dun say so early hor... U c already then say...        NaN   \n",
              "4   ham  Nah I don't think he goes to usf, he lives aro...        NaN   \n",
              "\n",
              "  Unnamed: 3 Unnamed: 4  label_encoded  \n",
              "0        NaN        NaN              0  \n",
              "1        NaN        NaN              0  \n",
              "2        NaN        NaN              1  \n",
              "3        NaN        NaN              0  \n",
              "4        NaN        NaN              0  "
            ]
          },
          "execution_count": 3,
          "metadata": {},
          "output_type": "execute_result"
        }
      ],
      "source": [
        "ds['label_encoded'] = ds['label'].map({'ham': 0, 'spam': 1})\n",
        "ds.head()"
      ]
    },
    {
      "cell_type": "code",
      "execution_count": null,
      "id": "aa43eae2-7734-445d-ba85-7ca70154df1a",
      "metadata": {
        "id": "aa43eae2-7734-445d-ba85-7ca70154df1a"
      },
      "outputs": [],
      "source": [
        "The labels are visualized using a pie chart to show their distribution."
      ]
    },
    {
      "cell_type": "code",
      "execution_count": null,
      "id": "bb17e24c-cdcd-4f81-899f-fe73bb81fdbb",
      "metadata": {
        "id": "bb17e24c-cdcd-4f81-899f-fe73bb81fdbb",
        "outputId": "fcab0125-1421-423a-bb2d-afb6aef006ec"
      },
      "outputs": [
        {
          "data": {
            "image/png": "[encoded data removed]",
            "text/plain": [
              "<Figure size 640x480 with 1 Axes>"
            ]
          },
          "metadata": {},
          "output_type": "display_data"
        }
      ],
      "source": [
        "import matplotlib.pyplot as plt\n",
        "\n",
        "plt.pie(ds.label.value_counts(), labels=['ham', 'spam'])\n",
        "plt.show()"
      ]
    },
    {
      "cell_type": "markdown",
      "id": "bbd3142d-4854-4da4-a249-29b7250d4d81",
      "metadata": {
        "id": "bbd3142d-4854-4da4-a249-29b7250d4d81"
      },
      "source": [
        "To find the average number of words in a message:"
      ]
    },
    {
      "cell_type": "code",
      "execution_count": null,
      "id": "5cddbd23-6d29-4bb6-b820-c69f105ccfe0",
      "metadata": {
        "id": "5cddbd23-6d29-4bb6-b820-c69f105ccfe0",
        "outputId": "7ed46da9-cb24-4ff0-986b-cd0798bb204a"
      },
      "outputs": [
        {
          "data": {
            "text/plain": [
              "15"
            ]
          },
          "execution_count": 5,
          "metadata": {},
          "output_type": "execute_result"
        }
      ],
      "source": [
        "avg_word_count_ds = round(sum([len(i.split()) for i in ds['message']]) / len(ds['message']))\n",
        "avg_word_count_ds"
      ]
    },
    {
      "cell_type": "markdown",
      "id": "d4418539-5e88-4725-a4b9-0cfd12c07fb0",
      "metadata": {
        "id": "d4418539-5e88-4725-a4b9-0cfd12c07fb0"
      },
      "source": [
        "To find the number of unique words in the dataset:"
      ]
    },
    {
      "cell_type": "code",
      "execution_count": null,
      "id": "62a8eaee-8a34-4e07-b16b-8a8b9eb40069",
      "metadata": {
        "id": "62a8eaee-8a34-4e07-b16b-8a8b9eb40069",
        "outputId": "affc48a3-f1a5-4359-9e0b-2ef8f7fb8673"
      },
      "outputs": [
        {
          "name": "stdout",
          "output_type": "stream",
          "text": [
            "15585\n"
          ]
        }
      ],
      "source": [
        "# Find the number of unique words in the dataset\n",
        "\n",
        "word_set_ds = set()\n",
        "for i in ds.message:\n",
        "    for j in i.split():\n",
        "        word_set_ds.add(j)\n",
        "\n",
        "total_words_length_ds = len(word_set_ds)\n",
        "print(total_words_length_ds)"
      ]
    },
    {
      "cell_type": "markdown",
      "id": "a3999249-6e27-47c9-a36a-83bb4a900a9e",
      "metadata": {
        "id": "a3999249-6e27-47c9-a36a-83bb4a900a9e"
      },
      "source": [
        "Lets split the data into training and testing sets using the train_test_split function from sklearn.\n",
        "The x values are the messages and the y values are the labels."
      ]
    },
    {
      "cell_type": "code",
      "execution_count": null,
      "id": "5c54fd73-6b9a-4ff5-9ce2-45b2cab9138f",
      "metadata": {
        "id": "5c54fd73-6b9a-4ff5-9ce2-45b2cab9138f"
      },
      "outputs": [],
      "source": [
        "# Split the dataset into Test and Train sets\n",
        "\n",
        "from sklearn.model_selection import train_test_split\n",
        "\n",
        "x_ds = ds['message']\n",
        "y_ds = ds['label_encoded']\n",
        "\n",
        "x_train_ds, x_test_ds, y_train_ds, y_test_ds = train_test_split(x_ds, y_ds, test_size=0.2)"
      ]
    },
    {
      "cell_type": "markdown",
      "id": "b25d667c-e3ea-466d-be04-a15e9a6d1be7",
      "metadata": {
        "id": "b25d667c-e3ea-466d-be04-a15e9a6d1be7"
      },
      "source": [
        "Lets vectorize the messages using the TF-IDF vectorizer.\n",
        "The TF-IDF vectorizer will then transform the text into meaningful representation of integers or numbers which is used to fit machine learning algorithm for predictions.\n",
        "TF-IDF can be used to tell how important or relevant a word is in the document."
      ]
    },
    {
      "cell_type": "code",
      "execution_count": null,
      "id": "f3aca55b-dff0-464e-a6d0-e0d2be1d9947",
      "metadata": {
        "id": "f3aca55b-dff0-464e-a6d0-e0d2be1d9947"
      },
      "outputs": [],
      "source": [
        "from sklearn.feature_extraction.text import TfidfVectorizer\n",
        "\n",
        "tfidf_vec_ds = TfidfVectorizer().fit(x_train_ds)\n",
        "x_train_vec_ds, x_test_vec_ds = tfidf_vec_ds.transform(x_train_ds), tfidf_vec_ds.transform(x_test_ds)"
      ]
    },
    {
      "cell_type": "markdown",
      "id": "274d9514-cb64-46a0-b396-3634ed774a94",
      "metadata": {
        "id": "274d9514-cb64-46a0-b396-3634ed774a94"
      },
      "source": [
        "Lets create a base model using the Multinomial Naive Bayes classifier which is a popular algorithm for natural language processing.\n",
        "Note that the vectorized training set is used for training."
      ]
    },
    {
      "cell_type": "code",
      "execution_count": null,
      "id": "b57238d1-326e-49a3-bb19-83e7b88cff0b",
      "metadata": {
        "id": "b57238d1-326e-49a3-bb19-83e7b88cff0b",
        "outputId": "a63571a1-56a3-4039-cb3c-701d772bd104"
      },
      "outputs": [
        {
          "data": {
            "text/plain": [
              "MultinomialNB()"
            ]
          },
          "execution_count": 9,
          "metadata": {},
          "output_type": "execute_result"
        }
      ],
      "source": [
        "from sklearn.naive_bayes import MultinomialNB\n",
        "\n",
        "baseline_model_ds = MultinomialNB()\n",
        "baseline_model_ds.fit(x_train_vec_ds, y_train_ds)"
      ]
    },
    {
      "cell_type": "markdown",
      "id": "046b8307-b5a4-470c-9f7d-745b07331d97",
      "metadata": {
        "id": "046b8307-b5a4-470c-9f7d-745b07331d97"
      },
      "source": [
        "Now, the Prediction is done using this base model and the accuracy is displayed."
      ]
    },
    {
      "cell_type": "code",
      "execution_count": null,
      "id": "ba51e23e-08f3-43fe-ba8f-c1fce0e64d0b",
      "metadata": {
        "id": "ba51e23e-08f3-43fe-ba8f-c1fce0e64d0b",
        "outputId": "cbb8ebf7-8144-4236-d56b-93db6825dfee"
      },
      "outputs": [
        {
          "name": "stdout",
          "output_type": "stream",
          "text": [
            "0.9623318385650225\n",
            "              precision    recall  f1-score   support\n",
            "\n",
            "           0       0.96      1.00      0.98       974\n",
            "           1       1.00      0.70      0.82       141\n",
            "\n",
            "    accuracy                           0.96      1115\n",
            "   macro avg       0.98      0.85      0.90      1115\n",
            "weighted avg       0.96      0.96      0.96      1115\n",
            "\n"
          ]
        }
      ],
      "source": [
        "from sklearn.metrics import accuracy_score, classification_report\n",
        "\n",
        "y_pred_ds = baseline_model_ds.predict(x_test_vec_ds)\n",
        "\n",
        "nb_accuracy_ds = accuracy_score(y_test_ds, y_pred_ds)\n",
        "print(nb_accuracy_ds)\n",
        "print(classification_report(y_test_ds, y_pred_ds))"
      ]
    },
    {
      "cell_type": "markdown",
      "id": "b37479c9-ec95-4a50-a0e7-58f05d7e6242",
      "metadata": {
        "id": "b37479c9-ec95-4a50-a0e7-58f05d7e6242"
      },
      "source": [
        "Now, Lets Calculate & Display the Confusion Matrix."
      ]
    },
    {
      "cell_type": "code",
      "execution_count": null,
      "id": "4f90090c-82f7-4407-a836-67252d35f0ac",
      "metadata": {
        "id": "4f90090c-82f7-4407-a836-67252d35f0ac",
        "outputId": "7b107496-7d07-47e9-8ec5-4b8423b763bf"
      },
      "outputs": [
        {
          "data": {
            "text/plain": [
              "<sklearn.metrics._plot.confusion_matrix.ConfusionMatrixDisplay at 0x7fe82cbdf460>"
            ]
          },
          "execution_count": 11,
          "metadata": {},
          "output_type": "execute_result"
        },
        {
          "data": {
            "image/png": "[encoded data removed]",
            "text/plain": [
              "<Figure size 640x480 with 2 Axes>"
            ]
          },
          "metadata": {},
          "output_type": "display_data"
        }
      ],
      "source": [
        "from sklearn.metrics import confusion_matrix, ConfusionMatrixDisplay\n",
        "\n",
        "fig_ds = ConfusionMatrixDisplay(confusion_matrix(y_test_ds, y_pred_ds), display_labels=['ham', 'spam'])\n",
        "fig_ds.plot()"
      ]
    },
    {
      "cell_type": "markdown",
      "id": "b0e72e42-b2c4-4404-942d-fc1530973b9b",
      "metadata": {
        "id": "b0e72e42-b2c4-4404-942d-fc1530973b9b"
      },
      "source": [
        "From the confusion matrix we can infer that the model has a high false positive rate.\n",
        "\n",
        "Next we use a different vectorization tool from TensorFlow called the Keras Text Vectorization layer. This layer will vectorize the text into integers and then pad the text to make all the text the same length.\n",
        "\n",
        "The max_tokens parameter is used to specify the maximum number of words to be used in the vocabulary.\n",
        "The standardize parameter is used to specify any preprocessing to be done on the text. In this case we convert all the text to lowercase and remove punctuation.\n",
        "The output_mode parameter is used to specify the output of the vectorization layer.\n",
        "The output_sequence_length parameter is used to specify the length of the output sequence.\n",
        "The vectorization layer is then adapted to the training data."
      ]
    },
    {
      "cell_type": "code",
      "execution_count": null,
      "id": "5ad789a8-01a1-48f5-8890-4669f8e2a0de",
      "metadata": {
        "id": "5ad789a8-01a1-48f5-8890-4669f8e2a0de",
        "outputId": "cb9f3720-3746-41c2-ddc1-a4bfc46ceaa1"
      },
      "outputs": [
        {
          "name": "stderr",
          "output_type": "stream",
          "text": [
            "2024-01-05 23:30:26.768854: I tensorflow/core/platform/cpu_feature_guard.cc:182] This TensorFlow binary is optimized to use available CPU instructions in performance-critical operations.\n",
            "To enable the following instructions: AVX2 FMA, in other operations, rebuild TensorFlow with the appropriate compiler flags.\n"
          ]
        }
      ],
      "source": [
        "from tensorflow.keras.layers import TextVectorization\n",
        "\n",
        "MAXTOKENS = total_words_length_ds\n",
        "OUTPUTLEN = avg_word_count_ds\n",
        "\n",
        "text_vec_ds = TextVectorization(max_tokens=MAXTOKENS,\n",
        "                            standardize='lower_and_strip_punctuation',\n",
        "                            output_mode='int',\n",
        "                            output_sequence_length=OUTPUTLEN)\n",
        "\n",
        "text_vec_ds.adapt(x_train_ds)"
      ]
    },
    {
      "cell_type": "markdown",
      "id": "04b7a392-1574-48f2-ad6c-24738cffa3c7",
      "metadata": {
        "id": "04b7a392-1574-48f2-ad6c-24738cffa3c7"
      },
      "source": [
        "Next we define an Embedding layer which is a layer in TensorFlow Keras that is used to represent words as vectors of numbers. Embedding layers are used to show the relationships between words which can be used for deep learning tasks such as text classification."
      ]
    },
    {
      "cell_type": "code",
      "execution_count": null,
      "id": "d0c9f2d8-7cc4-44f7-983d-d7708ed42224",
      "metadata": {
        "id": "d0c9f2d8-7cc4-44f7-983d-d7708ed42224"
      },
      "outputs": [],
      "source": [
        "from tensorflow.keras.layers import Embedding\n",
        "\n",
        "embedding_layer_ds = Embedding(\n",
        "    input_dim=MAXTOKENS,\n",
        "    output_dim=128,\n",
        "    embeddings_initializer='uniform',\n",
        "    input_length=OUTPUTLEN\n",
        ")"
      ]
    },
    {
      "cell_type": "markdown",
      "id": "2941db33-43a8-41fd-9aae-e512feb9ee97",
      "metadata": {
        "id": "2941db33-43a8-41fd-9aae-e512feb9ee97"
      },
      "source": [
        "We then define a set of user defined helper functions to create a model, train the model, and evaluate the model. These can be used for all future models created in this notebook."
      ]
    },
    {
      "cell_type": "code",
      "execution_count": null,
      "id": "fdf497c8-bfa8-4074-864b-69f0b84b34f4",
      "metadata": {
        "id": "fdf497c8-bfa8-4074-864b-69f0b84b34f4"
      },
      "outputs": [],
      "source": [
        "from sklearn.metrics import precision_score, recall_score, f1_score\n",
        "from tensorflow import keras\n",
        "\n",
        "def compile_model(model):\n",
        "    model.compile(optimizer=keras.optimizers.Adam(),\n",
        "                  loss=keras.losses.BinaryCrossentropy(),\n",
        "                  metrics=['accuracy'])\n",
        "\n",
        "\n",
        "def fit_model(model, epochs, x_train_ds=x_train_ds, y_train_ds=y_train_ds, x_test_ds=x_test_ds, y_test_ds=y_test_ds):\n",
        "    history = model.fit(x_train_ds, y_train_ds, epochs=epochs, validation_data=(\n",
        "        x_test_ds, y_test_ds), validation_steps=int(0.2*len(x_test_ds)))\n",
        "    return history\n",
        "\n",
        "\n",
        "def evaluate_model(model, X_ds, y_ds):\n",
        "    y_preds_ds = np.round(model.predict(X_ds))\n",
        "    accuracy_ds = accuracy_score(y_ds, y_preds_ds)\n",
        "    precision_ds = precision_score(y_ds, y_preds_ds)\n",
        "    recall_ds = recall_score(y_ds, y_preds_ds)\n",
        "    f1_ds = f1_score(y_ds, y_preds_ds)\n",
        "    model_results_dict_ds = {'accuracy': accuracy_ds,\n",
        "                          'precision': precision_ds,\n",
        "                          'recall': recall_ds,\n",
        "                          'f1-score': f1_ds}\n",
        "\n",
        "    return model_results_dict_ds"
      ]
    },
    {
      "cell_type": "markdown",
      "id": "e8e472db-77e1-482d-be41-356ea42a6f0a",
      "metadata": {
        "id": "e8e472db-77e1-482d-be41-356ea42a6f0a"
      },
      "source": [
        "MODEL 1"
      ]
    },
    {
      "cell_type": "code",
      "execution_count": null,
      "id": "9c523c54-084b-4610-b467-24bc502a874d",
      "metadata": {
        "id": "9c523c54-084b-4610-b467-24bc502a874d"
      },
      "outputs": [],
      "source": [
        "import tensorflow as tf\n",
        "from tensorflow import keras\n",
        "\n",
        "input_layer_ds = keras.layers.Input(shape=(1,), dtype=tf.string)\n",
        "vec_layer_ds = text_vec_ds(input_layer_ds)\n",
        "embedding_layer_model_ds = embedding_layer_ds(vec_layer_ds)\n",
        "x = keras.layers.GlobalAveragePooling1D()(embedding_layer_model_ds)\n",
        "x = keras.layers.Flatten()(x)\n",
        "x = keras.layers.Dense(32, activation='relu')(x)\n",
        "output_layer_ds = keras.layers.Dense(1, activation='sigmoid')(x)\n",
        "model_1_ds = keras.Model(input_layer_ds, output_layer_ds)"
      ]
    },
    {
      "cell_type": "code",
      "execution_count": null,
      "id": "701851bb-e2c6-4dbf-a659-5256a1e4581a",
      "metadata": {
        "id": "701851bb-e2c6-4dbf-a659-5256a1e4581a",
        "outputId": "f70954e8-ddc9-4c81-d5d3-8167b2216b2d"
      },
      "outputs": [
        {
          "name": "stdout",
          "output_type": "stream",
          "text": [
            "Epoch 1/5\n",
            "140/140 [==============================] - 7s 36ms/step - loss: 0.3157 - accuracy: 0.8961 - val_loss: 0.1488 - val_accuracy: 0.9570\n",
            "Epoch 2/5\n",
            "140/140 [==============================] - 4s 27ms/step - loss: 0.0814 - accuracy: 0.9794 - val_loss: 0.0796 - val_accuracy: 0.9740\n",
            "Epoch 3/5\n",
            "140/140 [==============================] - 4s 27ms/step - loss: 0.0356 - accuracy: 0.9910 - val_loss: 0.0621 - val_accuracy: 0.9812\n",
            "Epoch 4/5\n",
            "140/140 [==============================] - 4s 26ms/step - loss: 0.0185 - accuracy: 0.9955 - val_loss: 0.0643 - val_accuracy: 0.9767\n",
            "Epoch 5/5\n",
            "140/140 [==============================] - 4s 27ms/step - loss: 0.0099 - accuracy: 0.9980 - val_loss: 0.0668 - val_accuracy: 0.9821\n"
          ]
        }
      ],
      "source": [
        "compile_model(model_1_ds)\n",
        "history_1_ds = fit_model(model_1_ds, epochs=5)"
      ]
    },
    {
      "cell_type": "markdown",
      "id": "791d64cb-beb5-434b-ae92-cf34c3011b03",
      "metadata": {
        "id": "791d64cb-beb5-434b-ae92-cf34c3011b03"
      },
      "source": [
        "MODEL 2"
      ]
    },
    {
      "cell_type": "code",
      "execution_count": null,
      "id": "ee832960-bbfe-4796-918b-0ca75e0263ea",
      "metadata": {
        "id": "ee832960-bbfe-4796-918b-0ca75e0263ea"
      },
      "outputs": [],
      "source": [
        "from tensorflow.keras import layers\n",
        "\n",
        "input_layer_ds = layers.Input(shape=(1,), dtype=tf.string)\n",
        "vec_layer_ds = text_vec_ds(input_layer_ds)\n",
        "embedding_layer_model_ds = embedding_layer_ds(vec_layer_ds)\n",
        "bi_lstm_ds = layers.Bidirectional(layers.LSTM(64, activation='tanh', return_sequences=True))(embedding_layer_model_ds)\n",
        "lstm_ds = layers.Bidirectional(layers.LSTM(64))(bi_lstm_ds)\n",
        "flatten_ds = layers.Flatten()(lstm_ds)\n",
        "dropout_ds = layers.Dropout(.1)(flatten_ds)\n",
        "x_ds = layers.Dense(32, activation='relu')(dropout_ds)\n",
        "output_layer_ds = layers.Dense(1, activation='sigmoid')(x_ds)\n",
        "model_2_ds = keras.Model(input_layer_ds, output_layer_ds)"
      ]
    },
    {
      "cell_type": "code",
      "execution_count": null,
      "id": "39309bcd-450c-4b31-b7bb-7a372b5d57bc",
      "metadata": {
        "id": "39309bcd-450c-4b31-b7bb-7a372b5d57bc",
        "outputId": "ecb3ed79-fcaf-45c8-82dd-e7902d267c3d"
      },
      "outputs": [
        {
          "name": "stdout",
          "output_type": "stream",
          "text": [
            "Epoch 1/5\n",
            "140/140 [==============================] - 27s 113ms/step - loss: 0.0482 - accuracy: 0.9888 - val_loss: 0.1381 - val_accuracy: 0.9749\n",
            "Epoch 2/5\n",
            "140/140 [==============================] - 13s 93ms/step - loss: 0.0050 - accuracy: 0.9984 - val_loss: 0.1014 - val_accuracy: 0.9803\n",
            "Epoch 3/5\n",
            "140/140 [==============================] - 14s 103ms/step - loss: 0.0029 - accuracy: 0.9993 - val_loss: 0.1059 - val_accuracy: 0.9812\n",
            "Epoch 4/5\n",
            "140/140 [==============================] - 13s 92ms/step - loss: 6.9309e-05 - accuracy: 1.0000 - val_loss: 0.1148 - val_accuracy: 0.9812\n",
            "Epoch 5/5\n",
            "140/140 [==============================] - 13s 91ms/step - loss: 3.2511e-05 - accuracy: 1.0000 - val_loss: 0.1208 - val_accuracy: 0.9812\n"
          ]
        }
      ],
      "source": [
        "compile_model(model_2_ds)\n",
        "history_2_ds = fit_model(model_2_ds, epochs=5)"
      ]
    },
    {
      "cell_type": "markdown",
      "id": "8aab11f7-c943-476b-804c-170668c3c42c",
      "metadata": {
        "id": "8aab11f7-c943-476b-804c-170668c3c42c"
      },
      "source": [
        "MODEL 3"
      ]
    },
    {
      "cell_type": "code",
      "execution_count": null,
      "id": "7f08b285-2d5c-4319-ba7f-dfa3fd03a7b9",
      "metadata": {
        "id": "7f08b285-2d5c-4319-ba7f-dfa3fd03a7b9",
        "outputId": "4985a2de-05db-4215-b32c-0e1907b23c57"
      },
      "outputs": [
        {
          "name": "stdout",
          "output_type": "stream",
          "text": [
            "Requirement already satisfied: tensorflow-hub in ./opt/anaconda3/lib/python3.9/site-packages (0.15.0)\n",
            "Requirement already satisfied: protobuf>=3.19.6 in ./opt/anaconda3/lib/python3.9/site-packages (from tensorflow-hub) (4.23.4)\n",
            "Requirement already satisfied: numpy>=1.12.0 in ./opt/anaconda3/lib/python3.9/site-packages (from tensorflow-hub) (1.24.4)\n",
            "Note: you may need to restart the kernel to use updated packages.\n"
          ]
        }
      ],
      "source": [
        "pip install tensorflow-hub"
      ]
    },
    {
      "cell_type": "code",
      "execution_count": null,
      "id": "154b788a-5c23-43a6-a313-f112002ca43f",
      "metadata": {
        "id": "154b788a-5c23-43a6-a313-f112002ca43f"
      },
      "outputs": [],
      "source": [
        "import tensorflow_hub as hub\n",
        "\n",
        "model_3_ds = keras.Sequential()\n",
        "use_layer_ds = hub.KerasLayer(\"https://tfhub.dev/google/universal-sentence-encoder/4\", trainable=False, input_shape=[], dtype=tf.string, name='USE')\n",
        "model_3_ds.add(use_layer_ds)\n",
        "model_3_ds.add(layers.Dropout(0.2))\n",
        "model_3_ds.add(layers.Dense(64, activation=keras.activations.relu))\n",
        "model_3_ds.add(layers.Dense(1, activation=keras.activations.sigmoid))"
      ]
    },
    {
      "cell_type": "code",
      "execution_count": null,
      "id": "4eaa2854-d35a-4af0-9715-51a14770701b",
      "metadata": {
        "id": "4eaa2854-d35a-4af0-9715-51a14770701b",
        "outputId": "ca82e401-ed7a-4bbd-e3e5-69dcc955b664"
      },
      "outputs": [
        {
          "name": "stdout",
          "output_type": "stream",
          "text": [
            "Epoch 1/5\n",
            "140/140 [==============================] - 9s 37ms/step - loss: 0.3191 - accuracy: 0.9091 - val_loss: 0.1157 - val_accuracy: 0.9758\n",
            "Epoch 2/5\n",
            "140/140 [==============================] - 5s 35ms/step - loss: 0.0835 - accuracy: 0.9782 - val_loss: 0.0674 - val_accuracy: 0.9812\n",
            "Epoch 3/5\n",
            "140/140 [==============================] - 4s 29ms/step - loss: 0.0576 - accuracy: 0.9816 - val_loss: 0.0584 - val_accuracy: 0.9803\n",
            "Epoch 4/5\n",
            "140/140 [==============================] - 4s 27ms/step - loss: 0.0464 - accuracy: 0.9861 - val_loss: 0.0500 - val_accuracy: 0.9839\n",
            "Epoch 5/5\n",
            "140/140 [==============================] - 4s 30ms/step - loss: 0.0415 - accuracy: 0.9877 - val_loss: 0.0478 - val_accuracy: 0.9848\n"
          ]
        }
      ],
      "source": [
        "compile_model(model_3_ds)\n",
        "history_3_ds = fit_model(model_3_ds, epochs=5)"
      ]
    },
    {
      "cell_type": "markdown",
      "id": "250fd2a9-b083-4ae0-a5e6-f8ecbedab943",
      "metadata": {
        "id": "250fd2a9-b083-4ae0-a5e6-f8ecbedab943"
      },
      "source": [
        "Model Analysis"
      ]
    },
    {
      "cell_type": "markdown",
      "id": "f48116b0-39d4-440b-b2ab-684fdeb855e6",
      "metadata": {
        "id": "f48116b0-39d4-440b-b2ab-684fdeb855e6"
      },
      "source": [
        "We use the helper functions to evaluate the models."
      ]
    },
    {
      "cell_type": "code",
      "execution_count": null,
      "id": "35f6edeb-4e13-4a7f-a811-362d055c91f7",
      "metadata": {
        "id": "35f6edeb-4e13-4a7f-a811-362d055c91f7",
        "outputId": "713b7ac3-ac89-4534-9de2-191bcde2c0c1"
      },
      "outputs": [
        {
          "name": "stdout",
          "output_type": "stream",
          "text": [
            "35/35 [==============================] - 1s 6ms/step\n",
            "35/35 [==============================] - 3s 19ms/step\n",
            "35/35 [==============================] - 2s 14ms/step\n"
          ]
        },
        {
          "data": {
            "text/html": [
              "<div>\n",
              "<style scoped>\n",
              "    .dataframe tbody tr th:only-of-type {\n",
              "        vertical-align: middle;\n",
              "    }\n",
              "\n",
              "    .dataframe tbody tr th {\n",
              "        vertical-align: top;\n",
              "    }\n",
              "\n",
              "    .dataframe thead th {\n",
              "        text-align: right;\n",
              "    }\n",
              "</style>\n",
              "<table border=\"1\" class=\"dataframe\">\n",
              "  <thead>\n",
              "    <tr style=\"text-align: right;\">\n",
              "      <th></th>\n",
              "      <th>accuracy</th>\n",
              "      <th>precision</th>\n",
              "      <th>recall</th>\n",
              "      <th>f1-score</th>\n",
              "    </tr>\n",
              "  </thead>\n",
              "  <tbody>\n",
              "    <tr>\n",
              "      <th>MultinomialNB Model</th>\n",
              "      <td>0.962332</td>\n",
              "      <td>1.000000</td>\n",
              "      <td>0.702128</td>\n",
              "      <td>0.825000</td>\n",
              "    </tr>\n",
              "    <tr>\n",
              "      <th>Custom-Vec-Embedding Model</th>\n",
              "      <td>0.982063</td>\n",
              "      <td>0.941606</td>\n",
              "      <td>0.914894</td>\n",
              "      <td>0.928058</td>\n",
              "    </tr>\n",
              "    <tr>\n",
              "      <th>Bidirectional-LSTM Model</th>\n",
              "      <td>0.981166</td>\n",
              "      <td>0.961538</td>\n",
              "      <td>0.886525</td>\n",
              "      <td>0.922509</td>\n",
              "    </tr>\n",
              "    <tr>\n",
              "      <th>USE-Transfer learning Model</th>\n",
              "      <td>0.984753</td>\n",
              "      <td>0.969697</td>\n",
              "      <td>0.907801</td>\n",
              "      <td>0.937729</td>\n",
              "    </tr>\n",
              "  </tbody>\n",
              "</table>\n",
              "</div>"
            ],
            "text/plain": [
              "                             accuracy  precision    recall  f1-score\n",
              "MultinomialNB Model          0.962332   1.000000  0.702128  0.825000\n",
              "Custom-Vec-Embedding Model   0.982063   0.941606  0.914894  0.928058\n",
              "Bidirectional-LSTM Model     0.981166   0.961538  0.886525  0.922509\n",
              "USE-Transfer learning Model  0.984753   0.969697  0.907801  0.937729"
            ]
          },
          "execution_count": 22,
          "metadata": {},
          "output_type": "execute_result"
        }
      ],
      "source": [
        "baseline_model_results_ds = evaluate_model(baseline_model_ds, x_test_vec_ds, y_test_ds)\n",
        "model_1_results_ds = evaluate_model(model_1_ds, x_test_ds, y_test_ds)\n",
        "model_2_results_ds = evaluate_model(model_2_ds, x_test_ds, y_test_ds)\n",
        "model_3_results_ds = evaluate_model(model_3_ds, x_test_ds, y_test_ds)\n",
        "\n",
        "total_results_ds = pd.DataFrame({'MultinomialNB Model': baseline_model_results_ds,\n",
        "                             'Custom-Vec-Embedding Model': model_1_results_ds,\n",
        "                              'Bidirectional-LSTM Model': model_2_results_ds,\n",
        "                              'USE-Transfer learning Model': model_3_results_ds}).transpose()\n",
        "\n",
        "total_results_ds"
      ]
    },
    {
      "cell_type": "code",
      "execution_count": null,
      "id": "3cf31a86-6c6f-470e-ad25-2be5ade8bb49",
      "metadata": {
        "id": "3cf31a86-6c6f-470e-ad25-2be5ade8bb49",
        "outputId": "1afeeca6-770b-4a0e-bd06-d6c4642eb1cd"
      },
      "outputs": [
        {
          "data": {
            "text/plain": [
              "<AxesSubplot:>"
            ]
          },
          "execution_count": 23,
          "metadata": {},
          "output_type": "execute_result"
        },
        {
          "data": {
            "image/png": "[encoded data removed]",
            "text/plain": [
              "<Figure size 1200x600 with 1 Axes>"
            ]
          },
          "metadata": {},
          "output_type": "display_data"
        }
      ],
      "source": [
        "total_results_ds.plot(figsize=(12, 6))"
      ]
    },
    {
      "cell_type": "code",
      "execution_count": null,
      "id": "0a389b03-b4d1-4f32-a651-a51994ac7b23",
      "metadata": {
        "id": "0a389b03-b4d1-4f32-a651-a51994ac7b23"
      },
      "outputs": [],
      "source": []
    },
    {
      "cell_type": "markdown",
      "id": "30c9edc1-0607-4a68-91dc-f1aba8d48d3e",
      "metadata": {
        "id": "30c9edc1-0607-4a68-91dc-f1aba8d48d3e"
      },
      "source": [
        "Thank You!"
      ]
    },
    {
      "cell_type": "code",
      "execution_count": null,
      "id": "20cbbf4d-5959-49aa-96b8-c8a7d967a3f0",
      "metadata": {
        "id": "20cbbf4d-5959-49aa-96b8-c8a7d967a3f0"
      },
      "outputs": [],
      "source": []
    }
  ],
  "metadata": {
    "kernelspec": {
      "display_name": "Python 3 (ipykernel)",
      "language": "python",
      "name": "python3"
    },
    "language_info": {
      "codemirror_mode": {
        "name": "ipython",
        "version": 3
      },
      "file_extension": ".py",
      "mimetype": "text/x-python",
      "name": "python",
      "nbconvert_exporter": "python",
      "pygments_lexer": "ipython3",
      "version": "3.9.13"
    },
    "colab": {
      "provenance": []
    }
  },
  "nbformat": 4,
  "nbformat_minor": 5
}